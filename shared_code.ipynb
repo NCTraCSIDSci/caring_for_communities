{
 "cells": [
  {
   "cell_type": "markdown",
   "metadata": {
    "application/vnd.databricks.v1+cell": {
     "cellMetadata": {},
     "inputWidgets": {},
     "nuid": "6daa595f-5bfa-4769-b2a6-541136df85bd",
     "showTitle": false,
     "tableResultSettingsMap": {},
     "title": ""
    }
   },
   "source": [
    "# Shared Code for Caring for Communities Study"
   ]
  },
  {
   "cell_type": "markdown",
   "metadata": {
    "application/vnd.databricks.v1+cell": {
     "cellMetadata": {},
     "inputWidgets": {},
     "nuid": "c33c898b-df3f-43ba-882f-2e450f7d4efe",
     "showTitle": false,
     "tableResultSettingsMap": {},
     "title": ""
    }
   },
   "source": [
    "This file includes Python/PySpark code for preprocessing race and ethnicity data from local EHR and ACS tracts, computing the Area Deprivation Index and linking this measure to the patient and regional data, and producing summary tables and figures.  
     Author: John P. Powers
     © 2025, The University of North Carolina at Chapel Hill. The code is licensed under the MIT license and permission is granted to use in accordance with the MIT license.  

     This code requires as inputs various ACS Detailed Tables and files containing various EHR data (patient tracts, race, ethnicity). In the example code here, EHR data were formatted in the OMOP common data model. The code prints tables and figures as outputs.  

     Documentation of the names and fields of all ACS tables used below can be obtained from https://www.census.gov/programs-surveys/acs/data/summary-file.html.  "
   ]
  },
  {
   "cell_type": "markdown",
   "metadata": {
    "application/vnd.databricks.v1+cell": {
     "cellMetadata": {},
     "inputWidgets": {},
     "nuid": "64db0e39-f5b7-45f5-84d3-224863209ba5",
     "showTitle": false,
     "tableResultSettingsMap": {},
     "title": ""
    }
   },
   "source": [
    "## Setup"
   ]
  },
  {
   "cell_type": "code",
   "execution_count": 0,
   "metadata": {
    "application/vnd.databricks.v1+cell": {
     "cellMetadata": {
      "byteLimit": 2048000,
      "rowLimit": 10000
     },
     "inputWidgets": {},
     "nuid": "0e2b6662-bee9-4160-aba6-1065f0d53374",
     "showTitle": false,
     "tableResultSettingsMap": {},
     "title": ""
    }
   },
   "outputs": [],
   "source": [
    "## Import code\n",
    "\n",
    "# Basics\n",
    "import pandas as pd\n",
    "\n",
    "# PySpark\n",
    "import pyspark.sql.functions as F\n",
    "from pyspark.sql.window import Window\n",
    "from pyspark.sql.types import LongType\n",
    "\n",
    "# Preprocessing\n",
    "from sklearn.experimental import enable_iterative_imputer\n",
    "from sklearn.impute import IterativeImputer\n",
    "\n",
    "# Plotting\n",
    "pd.plotting.register_matplotlib_converters()\n",
    "import matplotlib.pyplot as plt\n",
    "%matplotlib inline\n",
    "import seaborn as sns"
   ]
  },
  {
   "cell_type": "markdown",
   "metadata": {
    "application/vnd.databricks.v1+cell": {
     "cellMetadata": {},
     "inputWidgets": {},
     "nuid": "b7747cb7-df71-4175-9ad0-f53ae52914bc",
     "showTitle": false,
     "tableResultSettingsMap": {},
     "title": ""
    }
   },
   "source": [
    "## Areal measures prep"
   ]
  },
  {
   "cell_type": "code",
   "execution_count": 0,
   "metadata": {
    "application/vnd.databricks.v1+cell": {
     "cellMetadata": {
      "byteLimit": 2048000,
      "rowLimit": 10000
     },
     "inputWidgets": {},
     "nuid": "e22afb85-2e67-41ec-8f15-44e8c3881ee0",
     "showTitle": false,
     "tableResultSettingsMap": {},
     "title": ""
    }
   },
   "outputs": [],
   "source": [
    "# Create dataframe to store areal measures\n",
    "\n",
    "# Get the full list of NC tracts from one of the ACS Detailed Table files\n",
    "areal = spark.read.format('csv').options(delimiter='|', header=True).load(['YOUR_PATH_HERE/acsdt5y2019-b01001.dat.txt'])\n",
    "\n",
    "# Filter to include only rows for NC tracts\n",
    "areal = areal.where(F.col('geo_id').rlike('^1400000US37'))\n",
    "\n",
    "# Reduce geo_id to relevant portion (state, county, and tract)\n",
    "areal = areal.withColumn('geo_id', areal['geo_id'].substr(10, 11))\n",
    "\n",
    "areal = areal.select('geo_id')\n",
    "\n",
    "areal.count()"
   ]
  },
  {
   "cell_type": "code",
   "execution_count": 0,
   "metadata": {
    "application/vnd.databricks.v1+cell": {
     "cellMetadata": {
      "byteLimit": 2048000,
      "rowLimit": 10000
     },
     "inputWidgets": {},
     "nuid": "c1337a40-9fd0-476b-8e40-18b9ffba56e0",
     "showTitle": false,
     "tableResultSettingsMap": {},
     "title": ""
    }
   },
   "outputs": [],
   "source": [
    "# Get geo_ids for tracts with populations of 0\n",
    "# These tracts will be censored in areal measures dataset\n",
    "b01001 = spark.read.format('csv').options(delimiter='|', header=True).load('YOUR_PATH_HERE/acsdt5y2019-b01001.dat.txt')\n",
    "b01001 = b01001.where(F.col('geo_id').rlike('^1400000US37'))\n",
    "b01001 = b01001.withColumn('geo_id', b01001['geo_id'].substr(10, 11)).select('geo_id', 'b01001_e001')\n",
    "empty_tracts = b01001.where(F.col('b01001_e001') == 0).select('geo_id')\n",
    "empty_tracts.count()"
   ]
  },
  {
   "cell_type": "markdown",
   "metadata": {
    "application/vnd.databricks.v1+cell": {
     "cellMetadata": {},
     "inputWidgets": {},
     "nuid": "3d2b681a-f9b0-4b90-8b09-6348d8563456",
     "showTitle": false,
     "tableResultSettingsMap": {},
     "title": ""
    }
   },
   "source": [
    "### Area Deprivation Index (ADI)"
   ]
  },
  {
   "cell_type": "code",
   "execution_count": 0,
   "metadata": {
    "application/vnd.databricks.v1+cell": {
     "cellMetadata": {
      "byteLimit": 2048000,
      "rowLimit": 10000
     },
     "inputWidgets": {},
     "nuid": "3ac775c7-74af-4e91-ae0f-ddf85172ff04",
     "showTitle": false,
     "tableResultSettingsMap": {},
     "title": ""
    }
   },
   "outputs": [],
   "source": [
    "# Load ACS Detailed Table files needed to obtain ADI components\n",
    "b08201 = spark.read.format('csv').options(delimiter='|', header=True).load('YOUR_PATH_HERE/acsdt5y2019-b08201.dat.txt')\n",
    "b09002 = spark.read.format('csv').options(delimiter='|', header=True).load('YOUR_PATH_HERE/acsdt5y2019-b09002.dat.txt')\n",
    "b15003 = spark.read.format('csv').options(delimiter='|', header=True).load('YOUR_PATH_HERE/acsdt5y2019-b15003.dat.txt')\n",
    "b17010 = spark.read.format('csv').options(delimiter='|', header=True).load('YOUR_PATH_HERE/acsdt5y2019-b17010.dat.txt')\n",
    "b19001 = spark.read.format('csv').options(delimiter='|', header=True).load('YOUR_PATH_HERE/acsdt5y2019-b19001.dat.txt')\n",
    "b19113 = spark.read.format('csv').options(delimiter='|', header=True).load('YOUR_PATH_HERE/acsdt5y2019-b19113.dat.txt')\n",
    "b25014 = spark.read.format('csv').options(delimiter='|', header=True).load('YOUR_PATH_HERE/acsdt5y2019-b25014.dat.txt')\n",
    "b25026 = spark.read.format('csv').options(delimiter='|', header=True).load('YOUR_PATH_HERE/acsdt5y2019-b25026.dat.txt')\n",
    "b25043 = spark.read.format('csv').options(delimiter='|', header=True).load('YOUR_PATH_HERE/acsdt5y2019-b25043.dat.txt')\n",
    "b25048 = spark.read.format('csv').options(delimiter='|', header=True).load('YOUR_PATH_HERE/acsdt5y2019-b25048.dat.txt')\n",
    "b25064 = spark.read.format('csv').options(delimiter='|', header=True).load('YOUR_PATH_HERE/acsdt5y2019-b25064.dat.txt')\n",
    "b25077 = spark.read.format('csv').options(delimiter='|', header=True).load('YOUR_PATH_HERE/acsdt5y2019-b25077.dat.txt')\n",
    "b25088 = spark.read.format('csv').options(delimiter='|', header=True).load('YOUR_PATH_HERE/acsdt5y2019-b25088.dat.txt')\n",
    "c24010 = spark.read.format('csv').options(delimiter='|', header=True).load('YOUR_PATH_HERE/acsdt5y2019-c24010.dat.txt')\n",
    "b23025 = spark.read.format('csv').options(delimiter='|', header=True).load('YOUR_PATH_HERE/acsdt5y2019-b23025.dat.txt')\n",
    "c17002 = spark.read.format('csv').options(delimiter='|', header=True).load('YOUR_PATH_HERE/acsdt5y2019-c17002.dat.txt')"
   ]
  },
  {
   "cell_type": "code",
   "execution_count": 0,
   "metadata": {
    "application/vnd.databricks.v1+cell": {
     "cellMetadata": {
      "byteLimit": 2048000,
      "rowLimit": 10000
     },
     "inputWidgets": {},
     "nuid": "4cfedccc-df31-400a-b764-206d501c9874",
     "showTitle": false,
     "tableResultSettingsMap": {},
     "title": ""
    }
   },
   "outputs": [],
   "source": [
    "# Filter to include only rows for NC tracts\n",
    "b08201 = b08201.where(F.col('geo_id').rlike('^1400000US37'))\n",
    "b09002 = b09002.where(F.col('geo_id').rlike('^1400000US37'))\n",
    "b15003 = b15003.where(F.col('geo_id').rlike('^1400000US37'))\n",
    "b17010 = b17010.where(F.col('geo_id').rlike('^1400000US37'))\n",
    "b19001 = b19001.where(F.col('geo_id').rlike('^1400000US37'))\n",
    "b19113 = b19113.where(F.col('geo_id').rlike('^1400000US37'))\n",
    "b25014 = b25014.where(F.col('geo_id').rlike('^1400000US37'))\n",
    "b25026 = b25026.where(F.col('geo_id').rlike('^1400000US37'))\n",
    "b25043 = b25043.where(F.col('geo_id').rlike('^1400000US37'))\n",
    "b25048 = b25048.where(F.col('geo_id').rlike('^1400000US37'))\n",
    "b25064 = b25064.where(F.col('geo_id').rlike('^1400000US37'))\n",
    "b25077 = b25077.where(F.col('geo_id').rlike('^1400000US37'))\n",
    "b25088 = b25088.where(F.col('geo_id').rlike('^1400000US37'))\n",
    "c24010 = c24010.where(F.col('geo_id').rlike('^1400000US37'))\n",
    "b23025 = b23025.where(F.col('geo_id').rlike('^1400000US37'))\n",
    "c17002 = c17002.where(F.col('geo_id').rlike('^1400000US37'))"
   ]
  },
  {
   "cell_type": "code",
   "execution_count": 0,
   "metadata": {
    "application/vnd.databricks.v1+cell": {
     "cellMetadata": {
      "byteLimit": 2048000,
      "rowLimit": 10000
     },
     "inputWidgets": {},
     "nuid": "1e0dadbd-9621-4ea6-a9b0-42783ccedbae",
     "showTitle": false,
     "tableResultSettingsMap": {},
     "title": ""
    }
   },
   "outputs": [],
   "source": [
    "# Compute % with < 9 years edu and % with < high school diploma\n",
    "b15003 = b15003.withColumn('perc_below_9_edu', (((F.col('b15003_e002') + F.col('b15003_e003') + F.col('b15003_e004') + F.col('b15003_e005') + F.col('b15003_e006') + F.col('b15003_e007') + F.col('b15003_e008') + F.col('b15003_e009') + F.col('b15003_e010') + F.col('b15003_e011') + F.col('b15003_e012')) / F.col('b15003_e001')) * 100))\n",
    "b15003 = b15003.withColumn('perc_below_hs_diploma_edu', (((F.col('b15003_e002') + F.col('b15003_e003') + F.col('b15003_e004') + F.col('b15003_e005') + F.col('b15003_e006') + F.col('b15003_e007') + F.col('b15003_e008') + F.col('b15003_e009') + F.col('b15003_e010') + F.col('b15003_e011') + F.col('b15003_e012') + F.col('b15003_e013') + F.col('b15003_e014') + F.col('b15003_e015') + F.col('b15003_e016')) / F.col('b15003_e001')) * 100))\n",
    "b15003 = b15003.select('geo_id', 'perc_below_9_edu', 'perc_below_hs_diploma_edu')"
   ]
  },
  {
   "cell_type": "code",
   "execution_count": 0,
   "metadata": {
    "application/vnd.databricks.v1+cell": {
     "cellMetadata": {
      "byteLimit": 2048000,
      "rowLimit": 10000
     },
     "inputWidgets": {},
     "nuid": "8e6a48ea-e928-4bd6-b364-6763b6af6797",
     "showTitle": false,
     "tableResultSettingsMap": {},
     "title": ""
    }
   },
   "outputs": [],
   "source": [
    "# Compute % in white-collar occupations\n",
    "c24010 = c24010.withColumn('perc_white_collar', (((F.col('c24010_e003') + F.col('c24010_e027') + F.col('c24010_e039') + F.col('c24010_e063')) / F.col('c24010_e001')) * 100))\n",
    "c24010 = c24010.select('geo_id', 'perc_white_collar')"
   ]
  },
  {
   "cell_type": "code",
   "execution_count": 0,
   "metadata": {
    "application/vnd.databricks.v1+cell": {
     "cellMetadata": {
      "byteLimit": 2048000,
      "rowLimit": 10000
     },
     "inputWidgets": {},
     "nuid": "ed0124d0-e761-49d6-8dee-3ddb3b4b83da",
     "showTitle": false,
     "tableResultSettingsMap": {},
     "title": ""
    }
   },
   "outputs": [],
   "source": [
    "# Get median family income\n",
    "b19113 = b19113.select('geo_id', 'b19113_e001')\n",
    "b19113 = b19113.withColumnRenamed('b19113_e001', 'med_fam_income')"
   ]
  },
  {
   "cell_type": "code",
   "execution_count": 0,
   "metadata": {
    "application/vnd.databricks.v1+cell": {
     "cellMetadata": {
      "byteLimit": 2048000,
      "rowLimit": 10000
     },
     "inputWidgets": {},
     "nuid": "d4cb4e43-0013-4e98-8fa2-fae28126606b",
     "showTitle": false,
     "tableResultSettingsMap": {},
     "title": ""
    }
   },
   "outputs": [],
   "source": [
    "# Compute income disparity\n",
    "# Adjusted for inflation such that low income is <20k and high income is >= 100k \n",
    "# (in 1990 was <10k and >= 50k)\n",
    "b19001 = b19001.withColumn('income_disparity', F.log(100 * ((F.col('b19001_e002') + F.col('b19001_e003') + F.col('b19001_e004')) / (F.col('b19001_e014') + F.col('b19001_e015') + F.col('b19001_e016') + F.col('b19001_e017')))))\n",
    "b19001 = b19001.select('geo_id', 'income_disparity')"
   ]
  },
  {
   "cell_type": "code",
   "execution_count": 0,
   "metadata": {
    "application/vnd.databricks.v1+cell": {
     "cellMetadata": {
      "byteLimit": 2048000,
      "rowLimit": 10000
     },
     "inputWidgets": {},
     "nuid": "3a104c96-5e9d-4475-97fc-c1c717bd11c3",
     "showTitle": false,
     "tableResultSettingsMap": {},
     "title": ""
    }
   },
   "outputs": [],
   "source": [
    "# Get median home value\n",
    "b25077 = b25077.select('geo_id', 'b25077_e001')\n",
    "b25077 = b25077.withColumnRenamed('b25077_e001', 'med_home_value')"
   ]
  },
  {
   "cell_type": "code",
   "execution_count": 0,
   "metadata": {
    "application/vnd.databricks.v1+cell": {
     "cellMetadata": {
      "byteLimit": 2048000,
      "rowLimit": 10000
     },
     "inputWidgets": {},
     "nuid": "a5c9d80d-dbd6-41d3-af61-b4fe40855c72",
     "showTitle": false,
     "tableResultSettingsMap": {},
     "title": ""
    }
   },
   "outputs": [],
   "source": [
    "# Get median gross rent\n",
    "b25064 = b25064.select('geo_id', 'b25064_e001')\n",
    "b25064 = b25064.withColumnRenamed('b25064_e001', 'med_gross_rent')"
   ]
  },
  {
   "cell_type": "code",
   "execution_count": 0,
   "metadata": {
    "application/vnd.databricks.v1+cell": {
     "cellMetadata": {
      "byteLimit": 2048000,
      "rowLimit": 10000
     },
     "inputWidgets": {},
     "nuid": "3872de1c-efd1-40b3-87af-e465e9810ed6",
     "showTitle": false,
     "tableResultSettingsMap": {},
     "title": ""
    }
   },
   "outputs": [],
   "source": [
    "# Get median selected monthly owner costs for housing that has a mortgage\n",
    "b25088 = b25088.select('geo_id', 'b25088_e002')\n",
    "b25088 = b25088.withColumnRenamed('b25088_e002', 'med_mortgage_plus')"
   ]
  },
  {
   "cell_type": "code",
   "execution_count": 0,
   "metadata": {
    "application/vnd.databricks.v1+cell": {
     "cellMetadata": {
      "byteLimit": 2048000,
      "rowLimit": 10000
     },
     "inputWidgets": {},
     "nuid": "2a8eaaac-8042-4a6c-afa4-aea9aace2c1e",
     "showTitle": false,
     "tableResultSettingsMap": {},
     "title": ""
    }
   },
   "outputs": [],
   "source": [
    "# Compute % home ownership\n",
    "b25026 = b25026.withColumn('perc_home_own', ((F.col('b25026_e002') / F.col('b25026_e001')) * 100))\n",
    "b25026 = b25026.select('geo_id', 'perc_home_own')"
   ]
  },
  {
   "cell_type": "code",
   "execution_count": 0,
   "metadata": {
    "application/vnd.databricks.v1+cell": {
     "cellMetadata": {
      "byteLimit": 2048000,
      "rowLimit": 10000
     },
     "inputWidgets": {},
     "nuid": "770a49a5-6c64-40ee-a04e-b1d60e97b6dd",
     "showTitle": false,
     "tableResultSettingsMap": {},
     "title": ""
    }
   },
   "outputs": [],
   "source": [
    "# Compute % unemployed\n",
    "b23025 = b23025.withColumn('perc_unemploy', ((F.col('b23025_e005') / F.col('b23025_e003')) * 100))\n",
    "b23025 = b23025.select('geo_id', 'perc_unemploy')"
   ]
  },
  {
   "cell_type": "code",
   "execution_count": 0,
   "metadata": {
    "application/vnd.databricks.v1+cell": {
     "cellMetadata": {
      "byteLimit": 2048000,
      "rowLimit": 10000
     },
     "inputWidgets": {},
     "nuid": "85d90efb-62c6-4466-8a50-df3cee4e728e",
     "showTitle": false,
     "tableResultSettingsMap": {},
     "title": ""
    }
   },
   "outputs": [],
   "source": [
    "# Compute % families below poverty threshold\n",
    "b17010 = b17010.withColumn('perc_fam_below_pov', ((F.col('b17010_e002') / F.col('b17010_e001')) * 100))\n",
    "b17010 = b17010.select('geo_id', 'perc_fam_below_pov')"
   ]
  },
  {
   "cell_type": "code",
   "execution_count": 0,
   "metadata": {
    "application/vnd.databricks.v1+cell": {
     "cellMetadata": {
      "byteLimit": 2048000,
      "rowLimit": 10000
     },
     "inputWidgets": {},
     "nuid": "55625090-545f-4f15-bcd9-0b91dc7400ae",
     "showTitle": false,
     "tableResultSettingsMap": {},
     "title": ""
    }
   },
   "outputs": [],
   "source": [
    "# Compute % population below 150% of poverty threshold\n",
    "c17002 = c17002.withColumn('perc_below_150_pov', (((F.col('c17002_e002') + F.col('c17002_e003') + F.col('c17002_e004') + F.col('c17002_e005')) / F.col('c17002_e001')) * 100))\n",
    "c17002 = c17002.select('geo_id', 'perc_below_150_pov')"
   ]
  },
  {
   "cell_type": "code",
   "execution_count": 0,
   "metadata": {
    "application/vnd.databricks.v1+cell": {
     "cellMetadata": {
      "byteLimit": 2048000,
      "rowLimit": 10000
     },
     "inputWidgets": {},
     "nuid": "49f55ab4-ffa0-4e6a-813e-e3ea547953e9",
     "showTitle": false,
     "tableResultSettingsMap": {},
     "title": ""
    }
   },
   "outputs": [],
   "source": [
    "# Compute % single-parent families\n",
    "b09002 = b09002.withColumn('perc_1_parent_fam', ((F.col('b09002_e008') / F.col('b09002_e001')) * 100))\n",
    "b09002 = b09002.select('geo_id', 'perc_1_parent_fam')"
   ]
  },
  {
   "cell_type": "code",
   "execution_count": 0,
   "metadata": {
    "application/vnd.databricks.v1+cell": {
     "cellMetadata": {
      "byteLimit": 2048000,
      "rowLimit": 10000
     },
     "inputWidgets": {},
     "nuid": "08269f8b-0d65-47ba-ac69-a13e0e7500c2",
     "showTitle": false,
     "tableResultSettingsMap": {},
     "title": ""
    }
   },
   "outputs": [],
   "source": [
    "# Compute % households without a motor vehicle\n",
    "b08201 = b08201.withColumn('perc_hh_no_vehicle', ((F.col('b08201_e002') / F.col('b08201_e001')) * 100))\n",
    "b08201 = b08201.select('geo_id', 'perc_hh_no_vehicle')"
   ]
  },
  {
   "cell_type": "code",
   "execution_count": 0,
   "metadata": {
    "application/vnd.databricks.v1+cell": {
     "cellMetadata": {
      "byteLimit": 2048000,
      "rowLimit": 10000
     },
     "inputWidgets": {},
     "nuid": "ca89ccc0-5ce6-4200-8905-343cf368d868",
     "showTitle": false,
     "tableResultSettingsMap": {},
     "title": ""
    }
   },
   "outputs": [],
   "source": [
    "# Compute % households without phone service\n",
    "b25043 = b25043.withColumn('perc_hh_no_phone', (((F.col('b25043_e007') + F.col('b25043_e016')) / F.col('b25043_e001')) * 100))\n",
    "b25043 = b25043.select('geo_id', 'perc_hh_no_phone')"
   ]
  },
  {
   "cell_type": "code",
   "execution_count": 0,
   "metadata": {
    "application/vnd.databricks.v1+cell": {
     "cellMetadata": {
      "byteLimit": 2048000,
      "rowLimit": 10000
     },
     "inputWidgets": {},
     "nuid": "6fd0c6c2-9bd9-4a53-975d-fe222f52762a",
     "showTitle": false,
     "tableResultSettingsMap": {},
     "title": ""
    }
   },
   "outputs": [],
   "source": [
    "# Compute % households without complete plumbing\n",
    "b25048 = b25048.withColumn('perc_hh_inc_plumbing', ((F.col('b25048_e003') / F.col('b25048_e001')) * 100))\n",
    "b25048 = b25048.select('geo_id', 'perc_hh_inc_plumbing')"
   ]
  },
  {
   "cell_type": "code",
   "execution_count": 0,
   "metadata": {
    "application/vnd.databricks.v1+cell": {
     "cellMetadata": {
      "byteLimit": 2048000,
      "rowLimit": 10000
     },
     "inputWidgets": {},
     "nuid": "47d915d6-42f9-4487-b587-d93bac831128",
     "showTitle": false,
     "tableResultSettingsMap": {},
     "title": ""
    }
   },
   "outputs": [],
   "source": [
    "# Compute % households with > 1 person per room\n",
    "b25014 = b25014.withColumn('perc_hh_crowded', (((F.col('b25014_e005') + F.col('b25014_e006') + F.col('b25014_e007') + F.col('b25014_e011') + F.col('b25014_e012') + F.col('b25014_e013')) / F.col('b25014_e001')) * 100))\n",
    "b25014 = b25014.select('geo_id', 'perc_hh_crowded')"
   ]
  },
  {
   "cell_type": "code",
   "execution_count": 0,
   "metadata": {
    "application/vnd.databricks.v1+cell": {
     "cellMetadata": {
      "byteLimit": 2048000,
      "rowLimit": 10000
     },
     "inputWidgets": {},
     "nuid": "4516e4f5-e428-4062-a31c-e65d44a3e0bd",
     "showTitle": false,
     "tableResultSettingsMap": {},
     "title": ""
    }
   },
   "outputs": [],
   "source": [
    "# Combine results into a single dataframe\n",
    "adi_tables = [b15003, b17010, b19001, b19113, b25014, b25026, b25043, b25048, b25064, b25077, b25088, c24010, b23025, c17002]\n",
    "adi_data = b08201.join(b09002, 'geo_id', how='outer')\n",
    "for i in adi_tables:\n",
    "  adi_data = adi_data.join(i, 'geo_id', how='outer')\n",
    "adi_data.count()"
   ]
  },
  {
   "cell_type": "code",
   "execution_count": 0,
   "metadata": {
    "application/vnd.databricks.v1+cell": {
     "cellMetadata": {
      "byteLimit": 2048000,
      "rowLimit": 10000
     },
     "inputWidgets": {},
     "nuid": "fa740d9b-89ea-4de5-999f-97e715b32e55",
     "showTitle": false,
     "tableResultSettingsMap": {},
     "title": ""
    }
   },
   "outputs": [],
   "source": [
    "# Reduce geo_id to relevant portion (state, county, and tract)\n",
    "adi_data = adi_data.withColumn('geo_id', adi_data['geo_id'].substr(10, 11))"
   ]
  },
  {
   "cell_type": "code",
   "execution_count": 0,
   "metadata": {
    "application/vnd.databricks.v1+cell": {
     "cellMetadata": {
      "byteLimit": 2048000,
      "rowLimit": 10000
     },
     "inputWidgets": {},
     "nuid": "69ff89a2-e282-4ba6-93e2-8fa7d28aef46",
     "showTitle": false,
     "tableResultSettingsMap": {},
     "title": ""
    }
   },
   "outputs": [],
   "source": [
    "# Remove empty tracts (i.e., population estimate of 0)\n",
    "adi_data = adi_data.join(empty_tracts, 'geo_id', how='anti')"
   ]
  },
  {
   "cell_type": "code",
   "execution_count": 0,
   "metadata": {
    "application/vnd.databricks.v1+cell": {
     "cellMetadata": {
      "byteLimit": 2048000,
      "rowLimit": 10000
     },
     "inputWidgets": {},
     "nuid": "ad9a0276-ed45-4312-989e-94a952df4e26",
     "showTitle": false,
     "tableResultSettingsMap": {},
     "title": ""
    }
   },
   "outputs": [],
   "source": [
    "# Cast median measure columns from string to int\n",
    "adi_data = adi_data.withColumn('med_fam_income', F.col('med_fam_income').cast('int'))\n",
    "adi_data = adi_data.withColumn('med_gross_rent', F.col('med_gross_rent').cast('int'))\n",
    "adi_data = adi_data.withColumn('med_home_value', F.col('med_home_value').cast('int'))\n",
    "adi_data = adi_data.withColumn('med_mortgage_plus', F.col('med_mortgage_plus').cast('int'))"
   ]
  },
  {
   "cell_type": "code",
   "execution_count": 0,
   "metadata": {
    "application/vnd.databricks.v1+cell": {
     "cellMetadata": {
      "byteLimit": 2048000,
      "rowLimit": 10000
     },
     "inputWidgets": {},
     "nuid": "2f670bbe-aaba-46e1-8eee-95f3c1f65e08",
     "showTitle": false,
     "tableResultSettingsMap": {},
     "title": ""
    }
   },
   "outputs": [],
   "source": [
    "# In columns that should not have negative values,\n",
    "# replace negatives values with nulls.\n",
    "# These negative values can be specific markers left in the data by Census to indicate a problem with an estimate.\n",
    "cols = adi_data.columns.copy()\n",
    "\n",
    "# Exclude geo_id column from this as it is not a data column\n",
    "cols.remove('geo_id')\n",
    "\n",
    "# Exclude income_disparity column from this as it can legitimately be negative\n",
    "cols.remove('income_disparity')\n",
    "\n",
    "for i in cols:\n",
    "  adi_data = adi_data.withColumn(i, F.when(F.col(i) < 0, None).otherwise(F.col(i)))"
   ]
  },
  {
   "cell_type": "code",
   "execution_count": 0,
   "metadata": {
    "application/vnd.databricks.v1+cell": {
     "cellMetadata": {
      "byteLimit": 2048000,
      "rowLimit": 10000
     },
     "inputWidgets": {},
     "nuid": "2cb7b95f-06b2-4ad2-8680-f9fcc3259888",
     "showTitle": false,
     "tableResultSettingsMap": {},
     "title": ""
    }
   },
   "outputs": [],
   "source": [
    "# Remove rows with >3 nulls before imputation to improve the quality of imputation.\n",
    "high_missing = adi_data.where(sum(adi_data[col].isNull().cast('int') for col in adi_data.columns) > 3).select('geo_id')\n",
    "adi_data = adi_data.join(high_missing, 'geo_id', how='anti')"
   ]
  },
  {
   "cell_type": "code",
   "execution_count": 0,
   "metadata": {
    "application/vnd.databricks.v1+cell": {
     "cellMetadata": {
      "byteLimit": 2048000,
      "rowLimit": 10000
     },
     "inputWidgets": {},
     "nuid": "22c762db-4750-4b33-9711-3cbf1e104ed5",
     "showTitle": false,
     "tableResultSettingsMap": {},
     "title": ""
    }
   },
   "outputs": [],
   "source": [
    "# Add indicators for missing values that will be imputed\n",
    "for i in adi_data.columns:\n",
    "  if adi_data.where(adi_data[i].isNull()).count() > 0:\n",
    "    adi_data = adi_data.withColumn((i + '_imp'), F.col(i).isNull())"
   ]
  },
  {
   "cell_type": "code",
   "execution_count": 0,
   "metadata": {
    "application/vnd.databricks.v1+cell": {
     "cellMetadata": {
      "byteLimit": 2048000,
      "rowLimit": 10000
     },
     "inputWidgets": {},
     "nuid": "5e1267a8-b594-4bda-bbb4-74283caad71e",
     "showTitle": false,
     "tableResultSettingsMap": {},
     "title": ""
    }
   },
   "outputs": [],
   "source": [
    "# Add indicator for when index score includes any imputed values in component measures\n",
    "imp_list = [k for k in adi_data.columns if '_imp' in k]\n",
    "adi_data = adi_data.withColumn('ADI_imp', F.greatest(*imp_list) == True)"
   ]
  },
  {
   "cell_type": "code",
   "execution_count": 0,
   "metadata": {
    "application/vnd.databricks.v1+cell": {
     "cellMetadata": {
      "byteLimit": 2048000,
      "rowLimit": 10000
     },
     "inputWidgets": {},
     "nuid": "9f05bc70-b2ff-4c91-b5f3-6708cc865886",
     "showTitle": false,
     "tableResultSettingsMap": {},
     "title": ""
    }
   },
   "outputs": [],
   "source": [
    "# Impute missing values with an iterative imputation technique similar to MICE\n",
    "adi_data_pd = adi_data.toPandas()\n",
    "hold_cols = ['geo_id'] + imp_list + ['ADI_imp']\n",
    "adi_data_hold = adi_data_pd[hold_cols].copy()\n",
    "adi_data_X = adi_data_pd.drop(columns=hold_cols)\n",
    "col_names = adi_data_X.columns\n",
    "imputer = IterativeImputer(random_state=0)\n",
    "adi_data_X = imputer.fit_transform(adi_data_X)\n",
    "adi_data_X = pd.DataFrame(data=adi_data_X, columns=col_names)\n",
    "adi_data_pd = pd.concat([adi_data_hold, adi_data_X], axis = 1)\n",
    "adi_data = spark.createDataFrame(adi_data_pd)"
   ]
  },
  {
   "cell_type": "code",
   "execution_count": 0,
   "metadata": {
    "application/vnd.databricks.v1+cell": {
     "cellMetadata": {
      "byteLimit": 2048000,
      "rowLimit": 10000
     },
     "inputWidgets": {},
     "nuid": "9283d5cc-578c-4887-9d40-b1e5d651d560",
     "showTitle": false,
     "tableResultSettingsMap": {},
     "title": ""
    }
   },
   "outputs": [],
   "source": [
    "# Compute ADI from components\n",
    "adi_data = (\n",
    "  adi_data\n",
    "  .withColumn('pre_ADI',\n",
    "              (F.col('perc_below_9_edu') * 0.0849) +\n",
    "              (F.col('perc_below_hs_diploma_edu') * -0.0970) +\n",
    "              (F.col('perc_white_collar') * -0.0874) +\n",
    "              (F.col('med_fam_income') * -0.0977) +\n",
    "              (F.col('income_disparity') * 0.0936) +\n",
    "              (F.col('med_home_value') * -0.0688) +\n",
    "              (F.col('med_gross_rent') * -0.0781) +\n",
    "              (F.col('med_mortgage_plus') * -0.0770) +\n",
    "              (F.col('perc_home_own') * -0.0615) +\n",
    "              (F.col('perc_unemploy') * 0.0806) +\n",
    "              (F.col('perc_fam_below_pov') * 0.0977) +\n",
    "              (F.col('perc_below_150_pov') * 0.1037) +\n",
    "              (F.col('perc_1_parent_fam') * 0.0719) +\n",
    "              (F.col('perc_hh_no_vehicle') * 0.0694) +\n",
    "              (F.col('perc_hh_no_phone') * 0.0877) +\n",
    "              (F.col('perc_hh_inc_plumbing') * 0.0510) +\n",
    "              (F.col('perc_hh_crowded') * 0.0556))\n",
    ")\n",
    "\n",
    "adi_pd = adi_data.toPandas()\n",
    "adi_pd['ADI_raw'] = ((adi_pd['pre_ADI'] - adi_pd['pre_ADI'].mean()) * (20 / adi_pd['pre_ADI'].std())) + 100\n",
    "adi_pd['ADI'] = adi_pd['ADI_raw'].rank(pct = True) // 0.01\n",
    "adi_data = spark.createDataFrame(adi_pd)"
   ]
  },
  {
   "cell_type": "code",
   "execution_count": 0,
   "metadata": {
    "application/vnd.databricks.v1+cell": {
     "cellMetadata": {
      "byteLimit": 2048000,
      "rowLimit": 10000
     },
     "inputWidgets": {},
     "nuid": "a7a82421-086a-4af0-be91-34606840f809",
     "showTitle": false,
     "tableResultSettingsMap": {},
     "title": ""
    }
   },
   "outputs": [],
   "source": [
    "# Add ADI score and its components to the areal measures dataframe\n",
    "areal = areal.join(adi_data, 'geo_id', how='left')"
   ]
  },
  {
   "cell_type": "markdown",
   "metadata": {
    "application/vnd.databricks.v1+cell": {
     "cellMetadata": {},
     "inputWidgets": {},
     "nuid": "5ee9424f-a556-48e1-b256-b3dd33f2518b",
     "showTitle": false,
     "tableResultSettingsMap": {},
     "title": ""
    }
   },
   "source": [
    "## Patient location data prep"
   ]
  },
  {
   "cell_type": "code",
   "execution_count": 0,
   "metadata": {
    "application/vnd.databricks.v1+cell": {
     "cellMetadata": {
      "byteLimit": 2048000,
      "rowLimit": 10000
     },
     "inputWidgets": {},
     "nuid": "b86208c5-6274-4677-8431-16f8c8e8edda",
     "showTitle": false,
     "tableResultSettingsMap": {},
     "title": ""
    }
   },
   "outputs": [],
   "source": [
    "# Get one address per patient\n",
    "\n",
    "address = spark.read.parquet('YOUR_PATH_HERE/LIMITED_ADDRESS_HISTORY.parquet')\n",
    "\n",
    "# Get most recent NC tract per person that doesn't start after study period\n",
    "address = address.where(F.col('census_tract_2010').startswith('37'))\n",
    "address = address.where(F.col('start_date') < '2023-01-01 00:00:00')\n",
    "window_spec = Window.partitionBy('person_id').orderBy(F.col('start_date').desc())\n",
    "address = address.withColumn('row_num', F.row_number().over(window_spec))\n",
    "address = address.where(F.col('row_num') == 1).drop('row_num')\n",
    "address = address.select('person_id', 'census_tract_2010')\n",
    "address = address.withColumnRenamed('census_tract_2010', 'geo_id')\n",
    "address = address.withColumn('geo_id', F.trim(F.col('geo_id')))"
   ]
  },
  {
   "cell_type": "markdown",
   "metadata": {
    "application/vnd.databricks.v1+cell": {
     "cellMetadata": {},
     "inputWidgets": {},
     "nuid": "57577f79-6384-4ebb-9886-2e1dea93eb87",
     "showTitle": false,
     "tableResultSettingsMap": {},
     "title": ""
    }
   },
   "source": [
    "## Patient demographic data prep"
   ]
  },
  {
   "cell_type": "code",
   "execution_count": 0,
   "metadata": {
    "application/vnd.databricks.v1+cell": {
     "cellMetadata": {
      "byteLimit": 2048000,
      "rowLimit": 10000
     },
     "inputWidgets": {},
     "nuid": "ff20d1f7-2a52-488d-8e8f-21ae7ce61998",
     "showTitle": false,
     "tableResultSettingsMap": {},
     "title": ""
    }
   },
   "outputs": [],
   "source": [
    "# Get race and ethnicity for patients from data in the OMOP person table\n",
    "person = spark.read.parquet('YOUR_PATH_HERE/PERSON.parquet')\n",
    "person = person.withColumn('race', F.when(F.col('race_concept_name') == 'No matching concept', None).otherwise(F.col('race_concept_name')))\n",
    "person = person.withColumn('ethnicity', F.when(F.col('ethnicity_concept_name') == 'No matching concept', None)\n",
    "                                        .otherwise(F.col('ethnicity_concept_name')))\n",
    "person = person.select('person_id', 'race', 'ethnicity')"
   ]
  },
  {
   "cell_type": "code",
   "execution_count": 0,
   "metadata": {
    "application/vnd.databricks.v1+cell": {
     "cellMetadata": {
      "byteLimit": 2048000,
      "rowLimit": 10000
     },
     "inputWidgets": {},
     "nuid": "f1c6dc40-ed5a-4d47-9ca8-c5f3ff1f326d",
     "showTitle": false,
     "tableResultSettingsMap": {},
     "title": ""
    }
   },
   "outputs": [],
   "source": [
    "# Combine address, demographics, and areal meausures into a pandas dataframe\n",
    "data = person.join(address, 'person_id', how='inner')\n",
    "data = data.join(areal, 'geo_id', how='inner')\n",
    "\n",
    "data_pd = data.toPandas()"
   ]
  },
  {
   "cell_type": "markdown",
   "metadata": {
    "application/vnd.databricks.v1+cell": {
     "cellMetadata": {},
     "inputWidgets": {},
     "nuid": "0d1e299f-2197-4230-babf-7a096d7173bb",
     "showTitle": false,
     "tableResultSettingsMap": {},
     "title": ""
    }
   },
   "source": [
    "## Regional demographic data prep"
   ]
  },
  {
   "cell_type": "code",
   "execution_count": 0,
   "metadata": {
    "application/vnd.databricks.v1+cell": {
     "cellMetadata": {
      "byteLimit": 2048000,
      "rowLimit": 10000
     },
     "inputWidgets": {},
     "nuid": "9ec39ac5-2a5f-47d1-98bb-c20c30fdce42",
     "showTitle": false,
     "tableResultSettingsMap": {},
     "title": ""
    }
   },
   "outputs": [],
   "source": [
    "# Prepare data for state\n",
    "\n",
    "# Load relevant ACS Detailed Table files\n",
    "b02001 = spark.read.format('csv').options(delimiter='|', header=True).load('YOUR_PATH_HERE/acsdt5y2019-b02001.dat')\n",
    "b03001 = spark.read.format('csv').options(delimiter='|', header=True).load('YOUR_PATH_HERE/acsdt5y2019-b03001.dat')\n",
    "\n",
    "# Filter data files to include only rows for NC tracts\n",
    "b02001 = b02001.where(F.col('geo_id').rlike('^1400000US37'))\n",
    "b03001 = b03001.where(F.col('geo_id').rlike('^1400000US37'))\n",
    "\n",
    "# Reduce geo_id to relevant portion (state, county, and tract)\n",
    "b02001 = b02001.withColumn('geo_id', b02001['geo_id'].substr(10, 11))\n",
    "b03001 = b03001.withColumn('geo_id', b03001['geo_id'].substr(10, 11))\n",
    "\n",
    "# Extract race and ethnicity data and reshape to long format dataframes\n",
    "race = b02001.select('geo_id', 'b02001_e002', 'b02001_e003', 'b02001_e004', 'b02001_e005', 'b02001_e006')\n",
    "ethnicity = b03001.select('geo_id', 'b03001_e002', 'b03001_e003')\n",
    "\n",
    "for column in race.columns:\n",
    "  race = race.withColumn(column, F.col(column).cast(LongType()))\n",
    "\n",
    "for column in ethnicity.columns:\n",
    "  ethnicity = ethnicity.withColumn(column, F.col(column).cast(LongType()))\n",
    "\n",
    "race = race.selectExpr('geo_id', \"stack(5, 'White', b02001_e002, 'Black or African American', b02001_e003, 'American Indian or Alaska Native', b02001_e004, 'Asian', b02001_e005, 'Native Hawaiian or Other Pacific Islander', b02001_e006) as (race, count)\")\n",
    "ethnicity = ethnicity.selectExpr('geo_id', \"stack(2, 'Not Hispanic or Latino', b03001_e002, 'Hispanic or Latino', b03001_e003) as (ethnicity, count)\")"
   ]
  },
  {
   "cell_type": "code",
   "execution_count": 0,
   "metadata": {
    "application/vnd.databricks.v1+cell": {
     "cellMetadata": {
      "byteLimit": 2048000,
      "rowLimit": 10000
     },
     "inputWidgets": {},
     "nuid": "5dd4f7b3-fb9d-4b01-96b9-2930a4db2baf",
     "showTitle": false,
     "tableResultSettingsMap": {},
     "title": ""
    }
   },
   "outputs": [],
   "source": [
    "# Join the demographic data with the areal measures\n",
    "race_values = ['White', 'Black or African American', 'Asian', 'American Indian or Alaska Native', 'Native Hawaiian or Other Pacific Islander']\n",
    "race_categories_df = spark.createDataFrame([(r,) for r in race_values], ['race'])\n",
    "state_data_race = areal.crossJoin(race_categories_df)\n",
    "\n",
    "ethnicity_values = ['Not Hispanic or Latino', 'Hispanic or Latino']\n",
    "ethnicity_categories_df = spark.createDataFrame([(e,) for e in ethnicity_values], ['ethnicity'])\n",
    "state_data_ethnicity = areal.crossJoin(ethnicity_categories_df)\n",
    "\n",
    "state_data_race = state_data_race.join(race, on=['geo_id', 'race'], how='inner')\n",
    "state_data_ethnicity = state_data_ethnicity.join(ethnicity, on=['geo_id', 'ethnicity'], how='inner')\n",
    "\n",
    "state_race_pd = state_data_race.toPandas()\n",
    "state_ethnicity_pd = state_data_ethnicity.toPandas()"
   ]
  },
  {
   "cell_type": "code",
   "execution_count": 0,
   "metadata": {
    "application/vnd.databricks.v1+cell": {
     "cellMetadata": {
      "byteLimit": 2048000,
      "rowLimit": 10000
     },
     "inputWidgets": {},
     "nuid": "03769656-ea3d-4012-9a07-7481398645d8",
     "showTitle": false,
     "tableResultSettingsMap": {},
     "title": ""
    }
   },
   "outputs": [],
   "source": [
    "# Get areal measures with full tract populations\n",
    "tract_pops = b02001.select('geo_id', 'b02001_e001')\n",
    "tract_pops = tract_pops.withColumnRenamed('b02001_e001', 'population')\n",
    "for column in tract_pops.columns:\n",
    "  tract_pops = tract_pops.withColumn(column, F.col(column).cast(LongType()))\n",
    "\n",
    "# Add patient counts\n",
    "tract_pt_counts = address.groupBy('geo_id').agg(F.count('person_id').alias('pt_count'))\n",
    "tract_pops = tract_pops.join(tract_pt_counts, 'geo_id', how='left').fillna(0, subset='pt_count')\n",
    "\n",
    "tract_data_pd = areal.join(tract_pops, 'geo_id', how='inner').toPandas()"
   ]
  },
  {
   "cell_type": "markdown",
   "metadata": {
    "application/vnd.databricks.v1+cell": {
     "cellMetadata": {},
     "inputWidgets": {},
     "nuid": "c2b3f29f-f022-48c9-a74e-38a45a3bf3d0",
     "showTitle": false,
     "tableResultSettingsMap": {},
     "title": ""
    }
   },
   "source": [
    "## Patient counts by tract"
   ]
  },
  {
   "cell_type": "code",
   "execution_count": 0,
   "metadata": {
    "application/vnd.databricks.v1+cell": {
     "cellMetadata": {
      "byteLimit": 2048000,
      "rowLimit": 10000
     },
     "inputWidgets": {},
     "nuid": "fd2ab3c5-819b-45d9-a285-e5f699ed6823",
     "showTitle": false,
     "tableResultSettingsMap": {},
     "title": ""
    }
   },
   "outputs": [],
   "source": [
    "# Get tracts and their populations\n",
    "b01001 = spark.read.format('csv').options(delimiter='|', header=True).load('YOUR_PATH_HERE/acsdt5y2019-b01001.dat.txt')\n",
    "b01001 = b01001.where(F.col('geo_id').rlike('^1400000US37'))\n",
    "tracts = b01001.withColumn('geo_id', b01001['geo_id'].substr(10, 11)).select('geo_id', 'b01001_e001')\n",
    "tracts = tracts.withColumnRenamed('b01001_e001', 'population')\n",
    "tracts = tracts.withColumn('population', F.col('population').cast('int'))\n",
    "tracts.count()"
   ]
  },
  {
   "cell_type": "code",
   "execution_count": 0,
   "metadata": {
    "application/vnd.databricks.v1+cell": {
     "cellMetadata": {
      "byteLimit": 2048000,
      "rowLimit": 10000
     },
     "inputWidgets": {},
     "nuid": "0b3e62d0-d29b-47bc-b217-4bb733d76d13",
     "showTitle": false,
     "tableResultSettingsMap": {},
     "title": ""
    }
   },
   "outputs": [],
   "source": [
    "# Get patient counts per tract and patient count as percentage of tract population\n",
    "tract_pt_counts = address.groupBy('geo_id').agg(F.count('person_id').alias('pt_count'))\n",
    "tract_pt_counts = tracts.join(tract_pt_counts, 'geo_id', how='left').fillna(0, subset='pt_count')\n",
    "tract_pt_counts = tract_pt_counts.withColumn('pt_percent', F.col('pt_count') * 100 / F.col('population'))\n",
    "tract_pt_counts_pd = tract_pt_counts.toPandas()"
   ]
  },
  {
   "cell_type": "code",
   "execution_count": 0,
   "metadata": {
    "application/vnd.databricks.v1+cell": {
     "cellMetadata": {
      "byteLimit": 2048000,
      "rowLimit": 10000
     },
     "inputWidgets": {},
     "nuid": "0add8574-8159-4a17-b4b6-c725154451df",
     "showTitle": false,
     "tableResultSettingsMap": {},
     "title": ""
    }
   },
   "outputs": [],
   "source": [
    "print('# tracts w/ patients:', tract_pt_counts.where(F.col('pt_count') > 0).count())"
   ]
  },
  {
   "cell_type": "code",
   "execution_count": 0,
   "metadata": {
    "application/vnd.databricks.v1+cell": {
     "cellMetadata": {
      "byteLimit": 2048000,
      "rowLimit": 10000
     },
     "inputWidgets": {},
     "nuid": "545fa355-4869-4642-b932-ea686bcc3aa5",
     "showTitle": false,
     "tableResultSettingsMap": {},
     "title": ""
    }
   },
   "outputs": [],
   "source": [
    "fig, axes = plt.subplots(1, 2, figsize=(12, 5))\n",
    "\n",
    "# First plot\n",
    "sns.histplot(data=tract_pt_counts_pd, x='pt_count', binwidth=200, binrange=[0,8000], ax=axes[0])\n",
    "axes[0].set_xlabel(\"Patient count\")\n",
    "axes[0].set_ylabel('Tract count')\n",
    "\n",
    "# Second plot\n",
    "sns.histplot(data=tract_pt_counts_pd, x='pt_percent', binwidth=5, binrange=[0,120], ax=axes[1])\n",
    "axes[1].set_xlabel(\"Patient count as percentage of tract population\")\n",
    "axes[1].set_ylabel('Tract count')\n",
    "\n",
    "plt.show()"
   ]
  },
  {
   "cell_type": "markdown",
   "metadata": {
    "application/vnd.databricks.v1+cell": {
     "cellMetadata": {},
     "inputWidgets": {},
     "nuid": "f23132dd-206e-4a8c-9132-d2fa4fd6c9ee",
     "showTitle": false,
     "tableResultSettingsMap": {},
     "title": ""
    }
   },
   "source": [
    "## KDE plots and summary tables"
   ]
  },
  {
   "cell_type": "markdown",
   "metadata": {
    "application/vnd.databricks.v1+cell": {
     "cellMetadata": {},
     "inputWidgets": {},
     "nuid": "fd26ec4e-7e7f-4116-bce6-b882c61868ca",
     "showTitle": false,
     "tableResultSettingsMap": {},
     "title": ""
    }
   },
   "source": [
    "### Overall density of individuals"
   ]
  },
  {
   "cell_type": "code",
   "execution_count": 0,
   "metadata": {
    "application/vnd.databricks.v1+cell": {
     "cellMetadata": {
      "byteLimit": 2048000,
      "rowLimit": 10000
     },
     "inputWidgets": {},
     "nuid": "903589fb-55ef-4e57-9727-f559a19ed705",
     "showTitle": false,
     "tableResultSettingsMap": {},
     "title": ""
    }
   },
   "outputs": [],
   "source": [
    "# Define ADI bins and labels\n",
    "bins = [0, 25, 50, 75, 100]\n",
    "labels = ['[0, 25)', '[25, 50)', '[50, 75)', '[75, 100)']\n",
    "\n",
    "# Create a new column for the ADI bin\n",
    "tract_data_pd['ADI_bin'] = pd.cut(tract_data_pd['ADI'], bins=bins, labels=labels, right=False)\n",
    "\n",
    "# Group by ADI_bin and sum the weights\n",
    "population_distribution = tract_data_pd.groupby('ADI_bin')['population'].sum()\n",
    "patient_distribution = tract_data_pd.groupby('ADI_bin')['pt_count'].sum()\n",
    "\n",
    "# Normalize to get proportions\n",
    "population_proportion = (population_distribution / population_distribution.sum()).round(3)\n",
    "patient_proportion = (patient_distribution / patient_distribution.sum()).round(3)\n",
    "\n",
    "# Combine into a single DataFrame\n",
    "proportion_table = pd.DataFrame({\n",
    "    'ADI Bin': labels,\n",
    "    'NC Population Proportion': population_proportion.values,\n",
    "    'Patient Population Proportion': patient_proportion.values\n",
    "})\n",
    "\n",
    "print(proportion_table)\n"
   ]
  },
  {
   "cell_type": "code",
   "execution_count": 0,
   "metadata": {
    "application/vnd.databricks.v1+cell": {
     "cellMetadata": {
      "byteLimit": 2048000,
      "rowLimit": 10000
     },
     "inputWidgets": {},
     "nuid": "b6bc70b9-74b3-47bd-b7f6-fc03c2e49d37",
     "showTitle": false,
     "tableResultSettingsMap": {},
     "title": ""
    }
   },
   "outputs": [],
   "source": [
    "# Plot density of individuals across tract ADI scores\n",
    "plt.figure(figsize=(6, 5))\n",
    "sns.kdeplot(data=tract_data_pd, x='ADI', weights='population', common_norm=False, bw_adjust=0.4, label='NC Population')\n",
    "sns.kdeplot(data=tract_data_pd, x='ADI', weights='pt_count', common_norm=False, bw_adjust=0.4, label='Patient Population')\n",
    "\n",
    "plt.xlabel(\"ADI in tract\")\n",
    "plt.ylabel('Density of individuals')\n",
    "plt.ylim(0, 0.015)\n",
    "plt.xlim(-20, 120)\n",
    "plt.legend()\n",
    "\n",
    "plt.show()"
   ]
  },
  {
   "cell_type": "markdown",
   "metadata": {
    "application/vnd.databricks.v1+cell": {
     "cellMetadata": {},
     "inputWidgets": {},
     "nuid": "1e5073b5-9727-408b-ad85-8d90a479cc40",
     "showTitle": false,
     "tableResultSettingsMap": {},
     "title": ""
    }
   },
   "source": [
    "### By race and ethnicity"
   ]
  },
  {
   "cell_type": "code",
   "execution_count": 0,
   "metadata": {
    "application/vnd.databricks.v1+cell": {
     "cellMetadata": {
      "byteLimit": 2048000,
      "rowLimit": 10000
     },
     "inputWidgets": {},
     "nuid": "5dcdb778-243c-410d-a517-e4cf61ac1842",
     "showTitle": false,
     "tableResultSettingsMap": {},
     "title": ""
    }
   },
   "outputs": [],
   "source": [
    "# Define ADI bins and labels\n",
    "bins = [0, 25, 50, 75, 100]\n",
    "labels = ['[0, 25)', '[25, 50)', '[50, 75)', '[75, 100)']\n",
    "\n",
    "# Function to compute proportions\n",
    "def compute_proportions(df, group_col, weight_col=None):\n",
    "    df = df.copy()\n",
    "    df['ADI_bin'] = pd.cut(df['ADI'], bins=bins, labels=labels, right=False)\n",
    "\n",
    "    if weight_col:\n",
    "        grouped = df.groupby([group_col, 'ADI_bin'])[weight_col].sum().unstack(fill_value=0)\n",
    "        proportions = grouped.div(grouped.sum(axis=1), axis=0)\n",
    "    else:\n",
    "        grouped = df.groupby([group_col, 'ADI_bin']).size().unstack(fill_value=0)\n",
    "        proportions = grouped.div(grouped.sum(axis=1), axis=0)\n",
    "\n",
    "    return proportions\n",
    "\n",
    "race_proportions = compute_proportions(data_pd, 'race')\n",
    "ethnicity_proportions = compute_proportions(data_pd, 'ethnicity')\n",
    "state_race_proportions = compute_proportions(state_race_pd, 'race', weight_col='count')\n",
    "state_ethnicity_proportions = compute_proportions(state_ethnicity_pd, 'ethnicity', weight_col='count')\n"
   ]
  },
  {
   "cell_type": "code",
   "execution_count": 0,
   "metadata": {
    "application/vnd.databricks.v1+cell": {
     "cellMetadata": {
      "byteLimit": 2048000,
      "rowLimit": 10000
     },
     "inputWidgets": {},
     "nuid": "3db07734-8a39-4709-9169-d4fc6a9ce49c",
     "showTitle": false,
     "tableResultSettingsMap": {},
     "title": ""
    }
   },
   "outputs": [],
   "source": [
    "race_proportions.head(6)"
   ]
  },
  {
   "cell_type": "code",
   "execution_count": 0,
   "metadata": {
    "application/vnd.databricks.v1+cell": {
     "cellMetadata": {
      "byteLimit": 2048000,
      "rowLimit": 10000
     },
     "inputWidgets": {},
     "nuid": "549d9aed-a6d1-41dd-834e-4385e4ace857",
     "showTitle": false,
     "tableResultSettingsMap": {},
     "title": ""
    }
   },
   "outputs": [],
   "source": [
    "ethnicity_proportions.head(3)"
   ]
  },
  {
   "cell_type": "code",
   "execution_count": 0,
   "metadata": {
    "application/vnd.databricks.v1+cell": {
     "cellMetadata": {
      "byteLimit": 2048000,
      "rowLimit": 10000
     },
     "inputWidgets": {},
     "nuid": "d9189f7e-678c-438c-b577-453a61f05453",
     "showTitle": false,
     "tableResultSettingsMap": {},
     "title": ""
    }
   },
   "outputs": [],
   "source": [
    "state_race_proportions.head(6)"
   ]
  },
  {
   "cell_type": "code",
   "execution_count": 0,
   "metadata": {
    "application/vnd.databricks.v1+cell": {
     "cellMetadata": {
      "byteLimit": 2048000,
      "rowLimit": 10000
     },
     "inputWidgets": {},
     "nuid": "6decf4a9-5b27-4eda-a0ba-52d971634a64",
     "showTitle": false,
     "tableResultSettingsMap": {},
     "title": ""
    }
   },
   "outputs": [],
   "source": [
    "state_ethnicity_proportions.head(3)"
   ]
  },
  {
   "cell_type": "code",
   "execution_count": 0,
   "metadata": {
    "application/vnd.databricks.v1+cell": {
     "cellMetadata": {
      "byteLimit": 2048000,
      "rowLimit": 10000
     },
     "inputWidgets": {},
     "nuid": "1462aea6-c8e0-42ae-9e24-6d96fa2b5cbb",
     "showTitle": false,
     "tableResultSettingsMap": {},
     "title": ""
    }
   },
   "outputs": [],
   "source": [
    "# Plot densities by race and ethnicity\n",
    "fig, axes = plt.subplots(2, 2, figsize=(12, 10))\n",
    "\n",
    "# First plot\n",
    "sns.kdeplot(data=data_pd, x='ADI', hue='race', common_norm=False, bw_adjust=1.5, ax=axes[0, 0])\n",
    "axes[0, 0].set_xlabel(\"ADI in tract\")\n",
    "axes[0, 0].set_ylabel('Density of patients')\n",
    "axes[0, 0].set_title('Patient Population by Race')\n",
    "axes[0, 0].set_ylim(0, 0.052)\n",
    "axes[0, 0].set_xlim(-25, 125)\n",
    "handles1 = axes[0, 0].legend_.legend_handles\n",
    "labels1 = [t.get_text() for t in axes[0, 0].legend_.texts]\n",
    "axes[0, 0].legend(handles1, labels1, loc='upper right')\n",
    "\n",
    "# Second plot\n",
    "sns.kdeplot(data=data_pd, x='ADI', hue='ethnicity', common_norm=False, bw_adjust=1.5, ax=axes[0, 1])\n",
    "axes[0, 1].set_xlabel(\"ADI in tract\")\n",
    "axes[0, 1].set_ylabel('Density of patients')\n",
    "axes[0, 1].set_title('Patient Population by Ethnicity')\n",
    "axes[0, 1].set_ylim(0, 0.016)\n",
    "axes[0, 1].get_legend().set_title(None)\n",
    "\n",
    "# Third plot\n",
    "sns.kdeplot(data=state_race_pd, x='ADI', hue='race', weights='count', common_norm=False, bw_adjust=0.4, hue_order=race_values, ax=axes[1, 0])\n",
    "axes[1, 0].set_xlabel(\"ADI in tract\")\n",
    "axes[1, 0].set_ylabel('Density of population')\n",
    "axes[1, 0].set_title('NC Population by Race')\n",
    "axes[1, 0].set_ylim(0, 0.052)\n",
    "axes[1, 0].set_xlim(-25, 125)\n",
    "axes[1, 0].get_legend().set_title(None)\n",
    "\n",
    "# Fourth plot\n",
    "sns.kdeplot(data=state_ethnicity_pd, x='ADI', hue='ethnicity', weights='count', common_norm=False, bw_adjust=0.4, hue_order=ethnicity_values, ax=axes[1, 1])\n",
    "axes[1, 1].set_xlabel(\"ADI in tract\")\n",
    "axes[1, 1].set_ylabel('Density of population')\n",
    "axes[1, 1].set_title('NC Population by Ethnicity')\n",
    "axes[1, 1].set_ylim(0, 0.016)\n",
    "axes[1, 1].get_legend().set_title(None)\n",
    "\n",
    "plt.show()"
   ]
  }
 ],
 "metadata": {
  "application/vnd.databricks.v1+notebook": {
   "computePreferences": null,
   "dashboards": [],
   "environmentMetadata": {
    "base_environment": "",
    "environment_version": "2"
   },
   "inputWidgetPreferences": null,
   "language": "python",
   "notebookMetadata": {
    "pythonIndentUnit": 2
   },
   "notebookName": "Powers_Carey_etal_share",
   "widgets": {}
  },
  "language_info": {
   "name": "python"
  }
 },
 "nbformat": 4,
 "nbformat_minor": 0
}
